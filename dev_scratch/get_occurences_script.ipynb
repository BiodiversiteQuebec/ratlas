{
 "cells": [
  {
   "cell_type": "code",
   "execution_count": null,
   "id": "9970734b-ae16-4b65-b810-b70a76d1249a",
   "metadata": {
    "tags": []
   },
   "outputs": [],
   "source": [
    "library(httr)\n",
    "library(sf)\n",
    "library(dplyr)\n",
    "\n",
    "# Load environment variables\n",
    "\n",
    "source('config.R') # ATLAS_API_HOST, ATLAS_API_TOKEN"
   ]
  },
  {
   "cell_type": "code",
   "execution_count": null,
   "id": "ff6f094b-0137-49e5-a50d-ea2ad0bd1c69",
   "metadata": {},
   "outputs": [],
   "source": [
    "# Function arguments\n",
    "taxa_id <- 32\n",
    "years <- 2013"
   ]
  },
  {
   "cell_type": "code",
   "execution_count": null,
   "id": "86b95be5-6444-41f8-8ba1-86743458199c",
   "metadata": {},
   "outputs": [],
   "source": [
    "# PostgREST API Request\n",
    "request <- paste0(ATLAS_API_HOST, '/observations',\n",
    "                  '?select=id,datasets(id,original_source)',\n",
    "                  ',taxa(id,scientific_name),variables(id,name,unit)',\n",
    "                  ',year_obs,month_obs,day_obs,time_obs,obs_value,geom',\n",
    "                  taxa_filter,years_filter, collapse='')"
   ]
  },
  {
   "cell_type": "code",
   "execution_count": null,
   "id": "9c1e0f55-22a8-43a5-afa2-f751feec374b",
   "metadata": {},
   "outputs": [],
   "source": [
    "# Update request from filters defined by arguments\n",
    "if (! is.null(taxa_id)){\n",
    "    request <- paste0(request, '&id_taxa=in.(', paste0(taxa_id, collapse=','),')', collapse='')\n",
    "}\n",
    "\n",
    "if (! is.null(years)){\n",
    "    request <- paste0(request, '&year_obs=in.(', paste0(years, collapse=','),')', collapse='')\n",
    "}"
   ]
  },
  {
   "cell_type": "code",
   "execution_count": null,
   "id": "45eddaf1-11b0-4832-86f2-8343593446ad",
   "metadata": {},
   "outputs": [],
   "source": [
    "# Make request and parse response\n",
    "response <- GET(URLencode(request),\n",
    "                add_headers(Authorization = paste('Bearer', ATLAS_API_TOKEN, sep = ' ')))\n",
    "\n",
    "stopifnot(status_code(response) == 200)\n",
    "out <- bind_rows(lapply(content(response, as = 'parsed', type = 'application/json'), unlist))\n",
    "\n",
    "colnames(out) <- sub('\\\\.','_',names(out))"
   ]
  },
  {
   "cell_type": "code",
   "execution_count": null,
   "id": "5a115cb2-cc6d-4622-92e9-66460bdd82ba",
   "metadata": {},
   "outputs": [],
   "source": [
    "# Convert geometry wkb values to sf\n",
    "to_sf <- function(geom_char){st_as_sfc(structure(geom_char, class = 'WKB'), EWKB = TRUE)}\n",
    "out <- mutate(out, geom = to_sf(geom))"
   ]
  }
 ],
 "metadata": {
  "kernelspec": {
   "display_name": "R",
   "language": "R",
   "name": "ir"
  },
  "language_info": {
   "codemirror_mode": "r",
   "file_extension": ".r",
   "mimetype": "text/x-r-source",
   "name": "R",
   "pygments_lexer": "r",
   "version": "3.6.3"
  }
 },
 "nbformat": 4,
 "nbformat_minor": 5
}
